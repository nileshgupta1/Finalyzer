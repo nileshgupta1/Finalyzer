{
 "cells": [
  {
   "cell_type": "code",
   "execution_count": 1,
   "id": "8fb2f20a",
   "metadata": {},
   "outputs": [
    {
     "name": "stderr",
     "output_type": "stream",
     "text": [
      "C:\\Users\\Nilesh\\anaconda3\\lib\\site-packages\\pandas\\core\\computation\\expressions.py:21: UserWarning: Pandas requires version '2.8.4' or newer of 'numexpr' (version '2.8.1' currently installed).\n",
      "  from pandas.core.computation.check import NUMEXPR_INSTALLED\n",
      "C:\\Users\\Nilesh\\anaconda3\\lib\\site-packages\\pandas\\core\\arrays\\masked.py:60: UserWarning: Pandas requires version '1.3.6' or newer of 'bottleneck' (version '1.3.4' currently installed).\n",
      "  from pandas.core import (\n"
     ]
    },
    {
     "data": {
      "text/html": [
       "<pre style=\"white-space:pre;overflow-x:auto;line-height:normal;font-family:Menlo,'DejaVu Sans Mono',consolas,'Courier New',monospace\"><span style=\"color: #7fbfbf; text-decoration-color: #7fbfbf\">[20:08:34] </span><span style=\"color: #000080; text-decoration-color: #000080\">INFO    </span> Identity of the Edgar REST client set to <span style=\"font-weight: bold\">[</span>Nilesh Gupta nilesh147k@gmail.com<span style=\"font-weight: bold\">]</span>        <a href=\"file://C:\\Users\\Nilesh\\anaconda3\\lib\\site-packages\\edgar\\core.py\" target=\"_blank\"><span style=\"color: #7f7f7f; text-decoration-color: #7f7f7f\">core.py</span></a><span style=\"color: #7f7f7f; text-decoration-color: #7f7f7f\">:</span><a href=\"file://C:\\Users\\Nilesh\\anaconda3\\lib\\site-packages\\edgar\\core.py#154\" target=\"_blank\"><span style=\"color: #7f7f7f; text-decoration-color: #7f7f7f\">154</span></a>\n",
       "</pre>\n"
      ],
      "text/plain": [
       "\u001b[2;36m[20:08:34]\u001b[0m\u001b[2;36m \u001b[0m\u001b[34mINFO    \u001b[0m Identity of the Edgar REST client set to \u001b[1m[\u001b[0mNilesh Gupta nilesh147k@gmail.com\u001b[1m]\u001b[0m        \u001b]8;id=385890;file://C:\\Users\\Nilesh\\anaconda3\\lib\\site-packages\\edgar\\core.py\u001b\\\u001b[2mcore.py\u001b[0m\u001b]8;;\u001b\\\u001b[2m:\u001b[0m\u001b]8;id=69020;file://C:\\Users\\Nilesh\\anaconda3\\lib\\site-packages\\edgar\\core.py#154\u001b\\\u001b[2m154\u001b[0m\u001b]8;;\u001b\\\n"
      ]
     },
     "metadata": {},
     "output_type": "display_data"
    }
   ],
   "source": [
    "from edgar import *\n",
    "\n",
    "set_identity(\"Nilesh Gupta nilesh147k@gmail.com\")\n",
    "\n",
    "filings = get_filings()"
   ]
  },
  {
   "cell_type": "code",
   "execution_count": 242,
   "id": "ff6b2df6",
   "metadata": {},
   "outputs": [],
   "source": [
    "company = Company(\"AAPL\")"
   ]
  },
  {
   "cell_type": "code",
   "execution_count": 243,
   "id": "d0c196dd",
   "metadata": {},
   "outputs": [],
   "source": [
    "filings = company.get_filings(form=\"10-K\")"
   ]
  },
  {
   "cell_type": "code",
   "execution_count": 244,
   "id": "2a38fb46",
   "metadata": {},
   "outputs": [
    {
     "data": {
      "text/html": [
       "<pre style=\"white-space:pre;overflow-x:auto;line-height:normal;font-family:Menlo,'DejaVu Sans Mono',consolas,'Courier New',monospace\"></pre>\n"
      ],
      "text/plain": []
     },
     "metadata": {},
     "output_type": "display_data"
    },
    {
     "data": {
      "text/plain": [
       "╭──────────────────────────────────────── Filings for Apple Inc. [320193] ────────────────────────────────────────╮\n",
       "│                                                                                                                 │\n",
       "│  \u001b[1m \u001b[0m\u001b[1m  \u001b[0m\u001b[1m \u001b[0m \u001b[1;38;5;71m \u001b[0m\u001b[1;38;5;71mform\u001b[0m\u001b[1;38;5;71m \u001b[0m \u001b[1;38;5;39m \u001b[0m\u001b[1;38;5;39mfiled     \u001b[0m\u001b[1;38;5;39m \u001b[0m \u001b[1m \u001b[0m\u001b[1maccession_number    \u001b[0m\u001b[1m \u001b[0m \u001b[1m \u001b[0m\u001b[1mxbrl\u001b[0m\u001b[1m \u001b[0m                                                         │\n",
       "│  ──────────────────────────────────────────────────────                                                         │\n",
       "│  \u001b[1m \u001b[0m\u001b[1m0 \u001b[0m\u001b[1m \u001b[0m \u001b[1;38;5;71m \u001b[0m\u001b[1;38;5;71m10-K\u001b[0m\u001b[1;38;5;71m \u001b[0m \u001b[1;38;5;39m \u001b[0m\u001b[1;38;5;39m2023-11-03\u001b[0m\u001b[1;38;5;39m \u001b[0m \u001b[1m \u001b[0m\u001b[1m0000320193-23-000106\u001b[0m\u001b[1m \u001b[0m \u001b[1m \u001b[0m\u001b[1m✓   \u001b[0m\u001b[1m \u001b[0m                                                         │\n",
       "│   1   \u001b[38;5;71m \u001b[0m\u001b[38;5;71m10-K\u001b[0m\u001b[38;5;71m \u001b[0m \u001b[38;5;39m \u001b[0m\u001b[38;5;39m2022-10-28\u001b[0m\u001b[38;5;39m \u001b[0m  0000320193-22-000108   ✓                                                             │\n",
       "│  \u001b[1m \u001b[0m\u001b[1m2 \u001b[0m\u001b[1m \u001b[0m \u001b[1;38;5;71m \u001b[0m\u001b[1;38;5;71m10-K\u001b[0m\u001b[1;38;5;71m \u001b[0m \u001b[1;38;5;39m \u001b[0m\u001b[1;38;5;39m2021-10-29\u001b[0m\u001b[1;38;5;39m \u001b[0m \u001b[1m \u001b[0m\u001b[1m0000320193-21-000105\u001b[0m\u001b[1m \u001b[0m \u001b[1m \u001b[0m\u001b[1m✓   \u001b[0m\u001b[1m \u001b[0m                                                         │\n",
       "│   3   \u001b[38;5;71m \u001b[0m\u001b[38;5;71m10-K\u001b[0m\u001b[38;5;71m \u001b[0m \u001b[38;5;39m \u001b[0m\u001b[38;5;39m2020-10-30\u001b[0m\u001b[38;5;39m \u001b[0m  0000320193-20-000096   ✓                                                             │\n",
       "│  \u001b[1m \u001b[0m\u001b[1m4 \u001b[0m\u001b[1m \u001b[0m \u001b[1;38;5;71m \u001b[0m\u001b[1;38;5;71m10-K\u001b[0m\u001b[1;38;5;71m \u001b[0m \u001b[1;38;5;39m \u001b[0m\u001b[1;38;5;39m2019-10-31\u001b[0m\u001b[1;38;5;39m \u001b[0m \u001b[1m \u001b[0m\u001b[1m0000320193-19-000119\u001b[0m\u001b[1m \u001b[0m \u001b[1m \u001b[0m\u001b[1m✓   \u001b[0m\u001b[1m \u001b[0m                                                         │\n",
       "│   5   \u001b[38;5;71m \u001b[0m\u001b[38;5;71m10-K\u001b[0m\u001b[38;5;71m \u001b[0m \u001b[38;5;39m \u001b[0m\u001b[38;5;39m2018-11-05\u001b[0m\u001b[38;5;39m \u001b[0m  0000320193-18-000145   ✓                                                             │\n",
       "│  \u001b[1m \u001b[0m\u001b[1m6 \u001b[0m\u001b[1m \u001b[0m \u001b[1;38;5;71m \u001b[0m\u001b[1;38;5;71m10-K\u001b[0m\u001b[1;38;5;71m \u001b[0m \u001b[1;38;5;39m \u001b[0m\u001b[1;38;5;39m2017-11-03\u001b[0m\u001b[1;38;5;39m \u001b[0m \u001b[1m \u001b[0m\u001b[1m0000320193-17-000070\u001b[0m\u001b[1m \u001b[0m \u001b[1m \u001b[0m\u001b[1m✓   \u001b[0m\u001b[1m \u001b[0m                                                         │\n",
       "│   7   \u001b[38;5;71m \u001b[0m\u001b[38;5;71m10-K\u001b[0m\u001b[38;5;71m \u001b[0m \u001b[38;5;39m \u001b[0m\u001b[38;5;39m2016-10-26\u001b[0m\u001b[38;5;39m \u001b[0m  0001628280-16-020309   ✓                                                             │\n",
       "│  \u001b[1m \u001b[0m\u001b[1m8 \u001b[0m\u001b[1m \u001b[0m \u001b[1;38;5;71m \u001b[0m\u001b[1;38;5;71m10-K\u001b[0m\u001b[1;38;5;71m \u001b[0m \u001b[1;38;5;39m \u001b[0m\u001b[1;38;5;39m2015-10-28\u001b[0m\u001b[1;38;5;39m \u001b[0m \u001b[1m \u001b[0m\u001b[1m0001193125-15-356351\u001b[0m\u001b[1m \u001b[0m \u001b[1m \u001b[0m\u001b[1m✓   \u001b[0m\u001b[1m \u001b[0m                                                         │\n",
       "│   9   \u001b[38;5;71m \u001b[0m\u001b[38;5;71m10-K\u001b[0m\u001b[38;5;71m \u001b[0m \u001b[38;5;39m \u001b[0m\u001b[38;5;39m2014-10-27\u001b[0m\u001b[38;5;39m \u001b[0m  0001193125-14-383437   ✓                                                             │\n",
       "│  \u001b[1m \u001b[0m\u001b[1m10\u001b[0m\u001b[1m \u001b[0m \u001b[1;38;5;71m \u001b[0m\u001b[1;38;5;71m10-K\u001b[0m\u001b[1;38;5;71m \u001b[0m \u001b[1;38;5;39m \u001b[0m\u001b[1;38;5;39m2013-10-30\u001b[0m\u001b[1;38;5;39m \u001b[0m \u001b[1m \u001b[0m\u001b[1m0001193125-13-416534\u001b[0m\u001b[1m \u001b[0m \u001b[1m \u001b[0m\u001b[1m✓   \u001b[0m\u001b[1m \u001b[0m                                                         │\n",
       "│   11  \u001b[38;5;71m \u001b[0m\u001b[38;5;71m10-K\u001b[0m\u001b[38;5;71m \u001b[0m \u001b[38;5;39m \u001b[0m\u001b[38;5;39m2012-10-31\u001b[0m\u001b[38;5;39m \u001b[0m  0001193125-12-444068   ✓                                                             │\n",
       "│  \u001b[1m \u001b[0m\u001b[1m12\u001b[0m\u001b[1m \u001b[0m \u001b[1;38;5;71m \u001b[0m\u001b[1;38;5;71m10-K\u001b[0m\u001b[1;38;5;71m \u001b[0m \u001b[1;38;5;39m \u001b[0m\u001b[1;38;5;39m2011-10-26\u001b[0m\u001b[1;38;5;39m \u001b[0m \u001b[1m \u001b[0m\u001b[1m0001193125-11-282113\u001b[0m\u001b[1m \u001b[0m \u001b[1m \u001b[0m\u001b[1m✓   \u001b[0m\u001b[1m \u001b[0m                                                         │\n",
       "│   13  \u001b[38;5;71m \u001b[0m\u001b[38;5;71m10-K\u001b[0m\u001b[38;5;71m \u001b[0m \u001b[38;5;39m \u001b[0m\u001b[38;5;39m2010-10-27\u001b[0m\u001b[38;5;39m \u001b[0m  0001193125-10-238044   ✓                                                             │\n",
       "│  \u001b[1m \u001b[0m\u001b[1m14\u001b[0m\u001b[1m \u001b[0m \u001b[1;38;5;71m \u001b[0m\u001b[1;38;5;71m10-K\u001b[0m\u001b[1;38;5;71m \u001b[0m \u001b[1;38;5;39m \u001b[0m\u001b[1;38;5;39m2009-10-27\u001b[0m\u001b[1;38;5;39m \u001b[0m \u001b[1m \u001b[0m\u001b[1m0001193125-09-214859\u001b[0m\u001b[1m \u001b[0m \u001b[1m \u001b[0m\u001b[1m✓   \u001b[0m\u001b[1m \u001b[0m                                                         │\n",
       "│   15  \u001b[38;5;71m \u001b[0m\u001b[38;5;71m10-K\u001b[0m\u001b[38;5;71m \u001b[0m \u001b[38;5;39m \u001b[0m\u001b[38;5;39m2008-11-05\u001b[0m\u001b[38;5;39m \u001b[0m  0001193125-08-224958                                                                 │\n",
       "│  \u001b[1m \u001b[0m\u001b[1m16\u001b[0m\u001b[1m \u001b[0m \u001b[1;38;5;71m \u001b[0m\u001b[1;38;5;71m10-K\u001b[0m\u001b[1;38;5;71m \u001b[0m \u001b[1;38;5;39m \u001b[0m\u001b[1;38;5;39m2007-11-15\u001b[0m\u001b[1;38;5;39m \u001b[0m \u001b[1m \u001b[0m\u001b[1m0001047469-07-009340\u001b[0m\u001b[1m \u001b[0m \u001b[1m \u001b[0m\u001b[1m    \u001b[0m\u001b[1m \u001b[0m                                                         │\n",
       "│   17  \u001b[38;5;71m \u001b[0m\u001b[38;5;71m10-K\u001b[0m\u001b[38;5;71m \u001b[0m \u001b[38;5;39m \u001b[0m\u001b[38;5;39m2006-12-29\u001b[0m\u001b[38;5;39m \u001b[0m  0001104659-06-084288                                                                 │\n",
       "│  \u001b[1m \u001b[0m\u001b[1m18\u001b[0m\u001b[1m \u001b[0m \u001b[1;38;5;71m \u001b[0m\u001b[1;38;5;71m10-K\u001b[0m\u001b[1;38;5;71m \u001b[0m \u001b[1;38;5;39m \u001b[0m\u001b[1;38;5;39m2005-12-01\u001b[0m\u001b[1;38;5;39m \u001b[0m \u001b[1m \u001b[0m\u001b[1m0001104659-05-058421\u001b[0m\u001b[1m \u001b[0m \u001b[1m \u001b[0m\u001b[1m    \u001b[0m\u001b[1m \u001b[0m                                                         │\n",
       "│   19  \u001b[38;5;71m \u001b[0m\u001b[38;5;71m10-K\u001b[0m\u001b[38;5;71m \u001b[0m \u001b[38;5;39m \u001b[0m\u001b[38;5;39m2004-12-03\u001b[0m\u001b[38;5;39m \u001b[0m  0001047469-04-035975                                                                 │\n",
       "│  \u001b[1m \u001b[0m\u001b[1m20\u001b[0m\u001b[1m \u001b[0m \u001b[1;38;5;71m \u001b[0m\u001b[1;38;5;71m10-K\u001b[0m\u001b[1;38;5;71m \u001b[0m \u001b[1;38;5;39m \u001b[0m\u001b[1;38;5;39m2003-12-19\u001b[0m\u001b[1;38;5;39m \u001b[0m \u001b[1m \u001b[0m\u001b[1m0001047469-03-041604\u001b[0m\u001b[1m \u001b[0m \u001b[1m \u001b[0m\u001b[1m    \u001b[0m\u001b[1m \u001b[0m                                                         │\n",
       "│   21  \u001b[38;5;71m \u001b[0m\u001b[38;5;71m10-K\u001b[0m\u001b[38;5;71m \u001b[0m \u001b[38;5;39m \u001b[0m\u001b[38;5;39m2002-12-19\u001b[0m\u001b[38;5;39m \u001b[0m  0001047469-02-007674                                                                 │\n",
       "│  \u001b[1m \u001b[0m\u001b[1m22\u001b[0m\u001b[1m \u001b[0m \u001b[1;38;5;71m \u001b[0m\u001b[1;38;5;71m10-K\u001b[0m\u001b[1;38;5;71m \u001b[0m \u001b[1;38;5;39m \u001b[0m\u001b[1;38;5;39m2000-12-14\u001b[0m\u001b[1;38;5;39m \u001b[0m \u001b[1m \u001b[0m\u001b[1m0000912057-00-053623\u001b[0m\u001b[1m \u001b[0m \u001b[1m \u001b[0m\u001b[1m    \u001b[0m\u001b[1m \u001b[0m                                                         │\n",
       "│   23  \u001b[38;5;71m \u001b[0m\u001b[38;5;71m10-K\u001b[0m\u001b[38;5;71m \u001b[0m \u001b[38;5;39m \u001b[0m\u001b[38;5;39m1999-12-22\u001b[0m\u001b[38;5;39m \u001b[0m  0000912057-99-010244                                                                 │\n",
       "│  \u001b[1m \u001b[0m\u001b[1m24\u001b[0m\u001b[1m \u001b[0m \u001b[1;38;5;71m \u001b[0m\u001b[1;38;5;71m10-K\u001b[0m\u001b[1;38;5;71m \u001b[0m \u001b[1;38;5;39m \u001b[0m\u001b[1;38;5;39m1997-12-05\u001b[0m\u001b[1;38;5;39m \u001b[0m \u001b[1m \u001b[0m\u001b[1m0001047469-97-006960\u001b[0m\u001b[1m \u001b[0m \u001b[1m \u001b[0m\u001b[1m    \u001b[0m\u001b[1m \u001b[0m                                                         │\n",
       "│   25  \u001b[38;5;71m \u001b[0m\u001b[38;5;71m10-K\u001b[0m\u001b[38;5;71m \u001b[0m \u001b[38;5;39m \u001b[0m\u001b[38;5;39m1996-12-19\u001b[0m\u001b[38;5;39m \u001b[0m  0000320193-96-000023                                                                 │\n",
       "│  \u001b[1m \u001b[0m\u001b[1m26\u001b[0m\u001b[1m \u001b[0m \u001b[1;38;5;71m \u001b[0m\u001b[1;38;5;71m10-K\u001b[0m\u001b[1;38;5;71m \u001b[0m \u001b[1;38;5;39m \u001b[0m\u001b[1;38;5;39m1995-12-19\u001b[0m\u001b[1;38;5;39m \u001b[0m \u001b[1m \u001b[0m\u001b[1m0000320193-95-000016\u001b[0m\u001b[1m \u001b[0m \u001b[1m \u001b[0m\u001b[1m    \u001b[0m\u001b[1m \u001b[0m                                                         │\n",
       "│   27  \u001b[38;5;71m \u001b[0m\u001b[38;5;71m10-K\u001b[0m\u001b[38;5;71m \u001b[0m \u001b[38;5;39m \u001b[0m\u001b[38;5;39m1994-12-13\u001b[0m\u001b[38;5;39m \u001b[0m  0000320193-94-000016                                                                 │\n",
       "│                                                                                                                 │\n",
       "│ Showing 28 filings of 28 total                                                                                  │\n",
       "╰─────────────────────────────────────────────────────────────────────────────────────────────────────────────────╯"
      ]
     },
     "execution_count": 244,
     "metadata": {},
     "output_type": "execute_result"
    }
   ],
   "source": [
    "filings"
   ]
  },
  {
   "cell_type": "code",
   "execution_count": 69,
   "id": "6ba95123",
   "metadata": {},
   "outputs": [],
   "source": [
    "filing = filings[0]"
   ]
  },
  {
   "cell_type": "code",
   "execution_count": 75,
   "id": "d4928895",
   "metadata": {},
   "outputs": [],
   "source": [
    "Tenk = filing.obj()"
   ]
  },
  {
   "cell_type": "code",
   "execution_count": 310,
   "id": "ae92d619",
   "metadata": {},
   "outputs": [
    {
     "data": {
      "text/html": [
       "<pre style=\"white-space:pre;overflow-x:auto;line-height:normal;font-family:Menlo,'DejaVu Sans Mono',consolas,'Courier New',monospace\"></pre>\n"
      ],
      "text/plain": []
     },
     "metadata": {},
     "output_type": "display_data"
    },
    {
     "data": {
      "text/plain": [
       "╭─────────────────────────────────────────────────────────────────────────────────────────────────────────────────╮\n",
       "│ ╭────────────────────────────────────────\u001b[1m Apple Inc. [320193] 10-K 📊 \u001b[0m────────────────────────────────────────╮ │\n",
       "│ │ ╭──────────────────────┬────────────╮                                                                       │ │\n",
       "│ │ │\u001b[1;38;5;39m \u001b[0m\u001b[1;38;5;39m0000320193-23-000106\u001b[0m\u001b[1;38;5;39m \u001b[0m│ 2023-11-03 │                                                                       │ │\n",
       "│ │ ╰──────────────────────┴────────────╯                                                                       │ │\n",
       "│ │ ╭───────────────────────────────────────────────────────────────────────────────────────────╮               │ │\n",
       "│ │ │\u001b[1m \u001b[0m\u001b[1mLinks\u001b[0m\u001b[1m: 🏠 Homepage 📄 Primary Document 📜 Full Submission Text                           \u001b[0m\u001b[1m \u001b[0m│               │ │\n",
       "│ │ ├───────────────────────────────────────────────────────────────────────────────────────────┤               │ │\n",
       "│ │ │ 🏠 https://sec.gov/Archives/edgar/data/320193/0000320193-23-000106-index.html             │               │ │\n",
       "│ │ │ 📄 https://sec.gov/Archives/edgar/data/320193/000032019323000106/aapl-20230930.htm        │               │ │\n",
       "│ │ │ 📜 https://sec.gov/Archives/edgar/data/320193/000032019323000106/0000320193-23-000106.txt │               │ │\n",
       "│ │ ╰───────────────────────────────────────────────────────────────────────────────────────────╯               │ │\n",
       "│ ╰─────────────────────────────── Form 10-K: Annual report for public companies ───────────────────────────────╯ │\n",
       "│                                                                                                                 │\n",
       "│   \u001b[3m                         Balance Sheet                          \u001b[0m                                              │\n",
       "│                                                                                                                 │\n",
       "│    \u001b[1m \u001b[0m\u001b[1m                                          \u001b[0m\u001b[1m \u001b[0m \u001b[1m \u001b[0m\u001b[1m     2023-09-30\u001b[0m\u001b[1m \u001b[0m                                               │\n",
       "│    ━━━━━━━━━━━━━━━━━━━━━━━━━━━━━━━━━━━━━━━━━━━━━━━━━━━━━━━━━━━━━━                                               │\n",
       "│     ASSETS:                                                                                                     │\n",
       "│     CURRENT ASSETS:                                                                                             │\n",
       "│       Cash and Cash Equivalents                   29,965,000,000                                                │\n",
       "│       Other Current Assets                        14,695,000,000                                                │\n",
       "│    \u001b[1;38;5;39m \u001b[0m\u001b[1;38;5;39m  Current Assets                          \u001b[0m\u001b[1;38;5;39m \u001b[0m \u001b[1;38;5;39m \u001b[0m\u001b[1;38;5;39m143,566,000,000\u001b[0m\u001b[1;38;5;39m \u001b[0m                                               │\n",
       "│                                                                                                                 │\n",
       "│     NONCURRENT ASSETS:                                                                                          │\n",
       "│       Marketable Securities                      100,544,000,000                                                │\n",
       "│       Property, Plant and Equipment               43,715,000,000                                                │\n",
       "│       Other Noncurrent Assets                     64,758,000,000                                                │\n",
       "│    \u001b[1;38;5;39m \u001b[0m\u001b[1;38;5;39m  Total Noncurrent Assets                 \u001b[0m\u001b[1;38;5;39m \u001b[0m \u001b[1;38;5;39m \u001b[0m\u001b[1;38;5;39m209,017,000,000\u001b[0m\u001b[1;38;5;39m \u001b[0m                                               │\n",
       "│                                                                                                                 │\n",
       "│    \u001b[1;38;5;39m \u001b[0m\u001b[1;38;5;39mTotal Assets                              \u001b[0m\u001b[1;38;5;39m \u001b[0m \u001b[1;38;5;39m \u001b[0m\u001b[1;38;5;39m352,583,000,000\u001b[0m\u001b[1;38;5;39m \u001b[0m                                               │\n",
       "│                                                                                                                 │\n",
       "│     LIABILITIES AND STOCKHOLDERS' EQUITY:                                                                       │\n",
       "│     CURRENT LIABILITIES:                                                                                        │\n",
       "│       Accounts Payable                            62,611,000,000                                                │\n",
       "│       Other Current Liabilities                   58,829,000,000                                                │\n",
       "│       Deferred Revenue                             8,061,000,000                                                │\n",
       "│       Commercial Paper                             5,985,000,000                                                │\n",
       "│       Term Debt                                    9,822,000,000                                                │\n",
       "│    \u001b[1;38;5;39m \u001b[0m\u001b[1;38;5;39m  Total Current Liabilities               \u001b[0m\u001b[1;38;5;39m \u001b[0m \u001b[1;38;5;39m \u001b[0m\u001b[1;38;5;39m145,308,000,000\u001b[0m\u001b[1;38;5;39m \u001b[0m                                               │\n",
       "│                                                                                                                 │\n",
       "│     NONCURRENT LIABILITIES:                                                                                     │\n",
       "│       Non-current Long Term Debt                  95,281,000,000                                                │\n",
       "│       Other Noncurrent Liabilities                49,848,000,000                                                │\n",
       "│    \u001b[1;38;5;39m \u001b[0m\u001b[1;38;5;39m  Total Noncurrent Liabilities            \u001b[0m\u001b[1;38;5;39m \u001b[0m \u001b[1;38;5;39m \u001b[0m\u001b[1;38;5;39m145,129,000,000\u001b[0m\u001b[1;38;5;39m \u001b[0m                                               │\n",
       "│                                                                                                                 │\n",
       "│    \u001b[1;38;5;39m \u001b[0m\u001b[1;38;5;39mTotal Liabilities                         \u001b[0m\u001b[1;38;5;39m \u001b[0m \u001b[1;38;5;39m \u001b[0m\u001b[1;38;5;39m290,437,000,000\u001b[0m\u001b[1;38;5;39m \u001b[0m                                               │\n",
       "│                                                                                                                 │\n",
       "│     STOCKHOLDERS' EQUITY:                                                                                       │\n",
       "│       Common Stock and paid-in Capital            73,812,000,000                                                │\n",
       "│       Retained Earnings                             -214,000,000                                                │\n",
       "│       Accumulated Other Comprehensive Income     -11,452,000,000                                                │\n",
       "│    \u001b[1;38;5;39m \u001b[0m\u001b[1;38;5;39m  Total Stockholders' Equity              \u001b[0m\u001b[1;38;5;39m \u001b[0m \u001b[1;38;5;39m \u001b[0m\u001b[1;38;5;39m 62,146,000,000\u001b[0m\u001b[1;38;5;39m \u001b[0m                                               │\n",
       "│                                                                                                                 │\n",
       "│    \u001b[1;38;5;39m \u001b[0m\u001b[1;38;5;39mTotal Liabilities and Stockholders' Equity\u001b[0m\u001b[1;38;5;39m \u001b[0m \u001b[1;38;5;39m \u001b[0m\u001b[1;38;5;39m352,583,000,000\u001b[0m\u001b[1;38;5;39m \u001b[0m                                               │\n",
       "│                                                                                                                 │\n",
       "│   \u001b[3m                             Cashflow Statement                             \u001b[0m                                  │\n",
       "│                                                                                                                 │\n",
       "│    \u001b[1m \u001b[0m\u001b[1m                                                     \u001b[0m\u001b[1m \u001b[0m \u001b[1m \u001b[0m\u001b[1m      2023-09-30\u001b[0m\u001b[1m \u001b[0m                                   │\n",
       "│    ━━━━━━━━━━━━━━━━━━━━━━━━━━━━━━━━━━━━━━━━━━━━━━━━━━━━━━━━━━━━━━━━━━━━━━━━━━                                   │\n",
       "│     OPERATING ACTIVITIES:                                                                                       │\n",
       "│       Net Income                                              96,995,000,000                                    │\n",
       "│       Depreciation and Amortization                           11,519,000,000                                    │\n",
       "│       Stock-based Compensation                                10,833,000,000                                    │\n",
       "│       Other Noncash Income/Expense                             2,227,000,000                                    │\n",
       "│       Changes in Accounts Payable                             -1,889,000,000                                    │\n",
       "│       Changes in Inventories                                   1,618,000,000                                    │\n",
       "│    \u001b[1;38;5;39m \u001b[0m\u001b[1;38;5;39m  Net Cash Provided by Operating Activities          \u001b[0m\u001b[1;38;5;39m \u001b[0m \u001b[1;38;5;39m \u001b[0m\u001b[1;38;5;39m 110,543,000,000\u001b[0m\u001b[1;38;5;39m \u001b[0m                                   │\n",
       "│                                                                                                                 │\n",
       "│     INVESTING ACTIVITIES:                                                                                       │\n",
       "│       Purchases of Marketable Securities                      29,513,000,000                                    │\n",
       "│       Proceeds from Maturities of Marketable Securities       39,686,000,000                                    │\n",
       "│       Proceeds from Sale of Marketable Securities              5,828,000,000                                    │\n",
       "│       Purchases of Property, Plant and Equipment              10,959,000,000                                    │\n",
       "│       Other Investing Activities                               1,337,000,000                                    │\n",
       "│    \u001b[1;38;5;39m \u001b[0m\u001b[1;38;5;39m  Net Cash Provided by Investing Activities          \u001b[0m\u001b[1;38;5;39m \u001b[0m \u001b[1;38;5;39m \u001b[0m\u001b[1;38;5;39m   3,705,000,000\u001b[0m\u001b[1;38;5;39m \u001b[0m                                   │\n",
       "│                                                                                                                 │\n",
       "│     FINANCING ACTIVITIES:                                                                                       │\n",
       "│       Payments of Tax for Share-based Compensation             5,431,000,000                                    │\n",
       "│       Dividends Paid                                          15,025,000,000                                    │\n",
       "│       Repurchases of Common Stock                             77,550,000,000                                    │\n",
       "│       Repayments of Long-term Debt                            11,151,000,000                                    │\n",
       "│    \u001b[1;38;5;39m \u001b[0m\u001b[1;38;5;39m  Net Cash Provided by Financing Activities          \u001b[0m\u001b[1;38;5;39m \u001b[0m \u001b[1;38;5;39m \u001b[0m\u001b[1;38;5;39m-108,488,000,000\u001b[0m\u001b[1;38;5;39m \u001b[0m                                   │\n",
       "│                                                                                                                 │\n",
       "│     Changes in Cash, cash equivalents and restricted cash      5,760,000,000                                    │\n",
       "│    \u001b[1;38;5;39m \u001b[0m\u001b[1;38;5;39mCash, cash equivalents and restricted cash           \u001b[0m\u001b[1;38;5;39m \u001b[0m \u001b[1;38;5;39m \u001b[0m\u001b[1;38;5;39m  30,737,000,000\u001b[0m\u001b[1;38;5;39m \u001b[0m                                   │\n",
       "│                                                                                                                 │\n",
       "│   \u001b[3m               Consolidated Statement of Operations                \u001b[0m                                           │\n",
       "│                                                                                                                 │\n",
       "│    \u001b[1m \u001b[0m\u001b[1m                                             \u001b[0m\u001b[1m \u001b[0m \u001b[1m \u001b[0m\u001b[1m     2023-09-30\u001b[0m\u001b[1m \u001b[0m                                            │\n",
       "│    ━━━━━━━━━━━━━━━━━━━━━━━━━━━━━━━━━━━━━━━━━━━━━━━━━━━━━━━━━━━━━━━━━                                            │\n",
       "│    \u001b[1;38;5;39m \u001b[0m\u001b[1;38;5;39mTotal Net Sales                              \u001b[0m\u001b[1;38;5;39m \u001b[0m \u001b[1;38;5;39m \u001b[0m\u001b[1;38;5;39m383,285,000,000\u001b[0m\u001b[1;38;5;39m \u001b[0m                                            │\n",
       "│                                                                                                                 │\n",
       "│     COST OF SALES:                                                                                              │\n",
       "│    \u001b[1;38;5;39m \u001b[0m\u001b[1;38;5;39mCost Goods and Services Sold                 \u001b[0m\u001b[1;38;5;39m \u001b[0m \u001b[1;38;5;39m \u001b[0m\u001b[1;38;5;39m214,137,000,000\u001b[0m\u001b[1;38;5;39m \u001b[0m                                            │\n",
       "│                                                                                                                 │\n",
       "│    \u001b[1;38;5;39m \u001b[0m\u001b[1;38;5;39mGross Profit                                 \u001b[0m\u001b[1;38;5;39m \u001b[0m \u001b[1;38;5;39m \u001b[0m\u001b[1;38;5;39m169,148,000,000\u001b[0m\u001b[1;38;5;39m \u001b[0m                                            │\n",
       "│                                                                                                                 │\n",
       "│     OPERATING EXPENSES:                                                                                         │\n",
       "│       Research and Development Expenses              29,915,000,000                                             │\n",
       "│       Selling General and Administrative Expenses    24,932,000,000                                             │\n",
       "│    \u001b[1;38;5;39m \u001b[0m\u001b[1;38;5;39mTotal Operating Expenses                     \u001b[0m\u001b[1;38;5;39m \u001b[0m \u001b[1;38;5;39m \u001b[0m\u001b[1;38;5;39m 54,847,000,000\u001b[0m\u001b[1;38;5;39m \u001b[0m                                            │\n",
       "│                                                                                                                 │\n",
       "│    \u001b[1;38;5;39m \u001b[0m\u001b[1;38;5;39mOperating Income                             \u001b[0m\u001b[1;38;5;39m \u001b[0m \u001b[1;38;5;39m \u001b[0m\u001b[1;38;5;39m114,301,000,000\u001b[0m\u001b[1;38;5;39m \u001b[0m                                            │\n",
       "│                                                                                                                 │\n",
       "│     OTHER INCOME/EXPENSE:                                                                                       │\n",
       "│       Interest Expense                                3,933,000,000                                             │\n",
       "│       Nonoperating Income                              -565,000,000                                             │\n",
       "│    \u001b[1;38;5;39m \u001b[0m\u001b[1;38;5;39mIncome Before Taxes                          \u001b[0m\u001b[1;38;5;39m \u001b[0m \u001b[1;38;5;39m \u001b[0m\u001b[1;38;5;39m113,736,000,000\u001b[0m\u001b[1;38;5;39m \u001b[0m                                            │\n",
       "│                                                                                                                 │\n",
       "│     Income Tax Expense                               16,741,000,000                                             │\n",
       "│    \u001b[1;38;5;39m \u001b[0m\u001b[1;38;5;39mNet Income                                   \u001b[0m\u001b[1;38;5;39m \u001b[0m \u001b[1;38;5;39m \u001b[0m\u001b[1;38;5;39m 96,995,000,000\u001b[0m\u001b[1;38;5;39m \u001b[0m                                            │\n",
       "│                                                                                                                 │\n",
       "│     EARNINGS PER SHARE:                                                                                         │\n",
       "│       Basic                                                    6.16                                             │\n",
       "│       Diluted                                                  6.13                                             │\n",
       "│     WEIGHTED AVERAGE SHARES OUTSTANDING:                                                                        │\n",
       "│       Basic                                          15,744,231,000                                             │\n",
       "│       Diluted                                        15,812,547,000                                             │\n",
       "│                                                                                                                 │\n",
       "│                                                                                                                 │\n",
       "╰─────────────────────────────────────────────────────────────────────────────────────────────────────────────────╯"
      ]
     },
     "execution_count": 310,
     "metadata": {},
     "output_type": "execute_result"
    }
   ],
   "source": [
    "Tenk"
   ]
  },
  {
   "cell_type": "code",
   "execution_count": 338,
   "id": "26cf4946",
   "metadata": {},
   "outputs": [
    {
     "data": {
      "text/plain": [
       "'Item 1.    Business\\nCompany Background\\nThe Company designs, manufactures and markets smartphones, personal computers, tablets, wearables and accessories, and sells a variety of related services. The Company’s fiscal year is the 52- or 53-week period that ends on the last Saturday of September.\\nProducts\\niPhone\\niPhone® is the Company’s line of smartphones based on its iOS operating system. The iPhone line includes iPhone 15 Pro, iPhone 15, iPhone 14, iPhone 13 and iPhone SE®.\\nMac\\nMac® is the Company’s line of personal computers based on its macOS® operating system. The Mac line includes laptops MacBook Air® and MacBook Pro®, as well as desktops iMac®, Mac mini®, Mac Studio® and Mac Pro®.\\niPad\\niPad® is the Company’s line of multipurpose tablets based on its iPadOS® operating system. The iPad line includes iPad Pro®, iPad Air®, iPad and iPad mini®.\\nWearables, Home and Accessories\\nWearables includes smartwatches and wireless headphones. The Company’s line of smartwatches, based on its watchOS® operating system, includes Apple Watch Ultra™ 2, Apple Watch® Series 9 and Apple Watch SE®. The Company’s line of wireless headphones includes AirPods®, AirPods Pro®, AirPods Max™ and Beats® products.\\nHome includes Apple TV®, the Company’s media streaming and gaming device based on its tvOS® operating system, and HomePod® and HomePod mini®, high-fidelity wireless smart speakers.\\nAccessories includes Apple-branded and third-party accessories.\\nApple Inc. | 2023 Form 10-K | 1\\n\\n\\nServices\\nAdvertising\\nThe Company’s advertising services include third-party licensing arrangements and the Company’s own advertising platforms.\\nAppleCare\\nThe Company offers a portfolio of fee-based service and support products under the AppleCare® brand. The offerings provide priority access to Apple technical support, access to the global Apple authorized service network for repair and replacement services, and in many cases additional coverage for instances of accidental damage or theft and loss, depending on the country and type of product.\\nCloud Services\\nThe Company’s cloud services store and keep customers’ content up-to-date and available across multiple Apple devices and Windows personal computers.\\nDigital Content\\nThe Company operates various platforms, including the App Store®, that allow customers to discover and download applications and digital content, such as books, music, video, games and podcasts.\\nThe Company also offers digital content through subscription-based services, including Apple Arcade®, a game subscription service; Apple Fitness+SM, a personalized fitness service; Apple Music®, which offers users a curated listening experience with on-demand radio stations; Apple News+®, a subscription news and magazine service; and Apple TV+®, which offers exclusive original content and live sports.\\nPayment Services\\nThe Company offers payment services, including Apple Card®, a co-branded credit card, and Apple Pay®, a cashless payment service.\\nSegments\\nThe Company manages its business primarily on a geographic basis. The Company’s reportable segments consist of the Americas, Europe, Greater China, Japan and Rest of Asia Pacific. Americas includes both North and South America. Europe includes European countries, as well as India, the Middle East and Africa. Greater China includes China mainland, Hong Kong and Taiwan. Rest of Asia Pacific includes Australia and those Asian countries not included in the Company’s other reportable segments. Although the reportable segments provide similar hardware and software products and similar services, each one is managed separately to better align with the location of the Company’s customers and distribution partners and the unique market dynamics of each geographic region.\\nMarkets and Distribution\\nThe Company’s customers are primarily in the consumer, small and mid-sized business, education, enterprise and government markets. The Company sells its products and resells third-party products in most of its major markets directly to customers through its retail and online stores and its direct sales force. The Company also employs a variety of indirect distribution channels, such as third-party cellular network carriers, wholesalers, retailers and resellers. During 2023, the Company’s net sales through its direct and indirect distribution channels accounted for 37% and 63%, respectively, of total net sales.\\nCompetition\\nThe markets for the Company’s products and services are highly competitive, and are characterized by aggressive price competition and resulting downward pressure on gross margins, frequent introduction of new products and services, short product life cycles, evolving industry standards, continual improvement in product price and performance characteristics, rapid adoption of technological advancements by competitors, and price sensitivity on the part of consumers and businesses. Many of the Company’s competitors seek to compete primarily through aggressive pricing and very low cost structures, and by imitating the Company’s products and infringing on its intellectual property.\\nApple Inc. | 2023 Form 10-K | 2\\n\\n\\nThe Company’s ability to compete successfully depends heavily on ensuring the continuing and timely introduction of innovative new products, services and technologies to the marketplace. The Company designs and develops nearly the entire solution for its products, including the hardware, operating system, numerous software applications and related services. Principal competitive factors important to the Company include price, product and service features (including security features), relative price and performance, product and service quality and reliability, design innovation, a strong third-party software and accessories ecosystem, marketing and distribution capability, service and support, and corporate reputation.\\nThe Company is focused on expanding its market opportunities related to smartphones, personal computers, tablets, wearables and accessories, and services. The Company faces substantial competition in these markets from companies that have significant technical, marketing, distribution and other resources, as well as established hardware, software, and service offerings with large customer bases. In addition, some of the Company’s competitors have broader product lines, lower-priced products and a larger installed base of active devices. Competition has been particularly intense as competitors have aggressively cut prices and lowered product margins. Certain competitors have the resources, experience or cost structures to provide products at little or no profit or even at a loss. The Company’s services compete with business models that provide content to users for free and use illegitimate means to obtain third-party digital content and applications. The Company faces significant competition as competitors imitate the Company’s product features and applications within their products, or collaborate to offer integrated solutions that are more competitive than those they currently offer.\\nSupply of Components\\nAlthough most components essential to the Company’s business are generally available from multiple sources, certain components are currently obtained from single or limited sources. The Company also competes for various components with other participants in the markets for smartphones, personal computers, tablets, wearables and accessories. Therefore, many components used by the Company, including those that are available from multiple sources, are at times subject to industry-wide shortage and significant commodity pricing fluctuations.\\nThe Company uses some custom components that are not commonly used by its competitors, and new products introduced by the Company often utilize custom components available from only one source. When a component or product uses new technologies, initial capacity constraints may exist until the suppliers’ yields have matured or their manufacturing capacities have increased. The continued availability of these components at acceptable prices, or at all, may be affected if suppliers decide to concentrate on the production of common components instead of components customized to meet the Company’s requirements.\\nThe Company has entered into agreements for the supply of many components; however, there can be no guarantee that the Company will be able to extend or renew these agreements on similar terms, or at all.\\nResearch and Development\\nBecause the industries in which the Company competes are characterized by rapid technological advances, the Company’s ability to compete successfully depends heavily upon its ability to ensure a continual and timely flow of competitive products, services and technologies to the marketplace. The Company continues to develop new technologies to enhance existing products and services, and to expand the range of its offerings through research and development (“R&D”), licensing of intellectual property and acquisition of third-party businesses and technology.\\nIntellectual Property\\nThe Company currently holds a broad collection of intellectual property rights relating to certain aspects of its hardware devices, accessories, software and services. This includes patents, designs, copyrights, trademarks and other forms of intellectual property rights in the U.S. and various foreign countries. Although the Company believes the ownership of such intellectual property rights is an important factor in differentiating its business and that its success does depend in part on such ownership, the Company relies primarily on the innovative skills, technical competence and marketing abilities of its personnel.\\nThe Company regularly files patent, design, copyright and trademark applications to protect innovations arising from its research, development, design and marketing, and is currently pursuing thousands of applications around the world. Over time, the Company has accumulated a large portfolio of issued and registered intellectual property rights around the world. No single intellectual property right is solely responsible for protecting the Company’s products and services. The Company believes the duration of its intellectual property rights is adequate relative to the expected lives of its products and services.\\nIn addition to Company-owned intellectual property, many of the Company’s products and services are designed to include intellectual property owned by third parties. It may be necessary in the future to seek or renew licenses relating to various aspects of the Company’s products, processes and services. While the Company has generally been able to obtain such licenses on commercially reasonable terms in the past, there is no guarantee that such licenses could be obtained in the future on reasonable terms or at all.\\nApple Inc. | 2023 Form 10-K | 3\\n\\n\\nBusiness Seasonality and Product Introductions\\nThe Company has historically experienced higher net sales in its first quarter compared to other quarters in its fiscal year due in part to seasonal holiday demand. Additionally, new product and service introductions can significantly impact net sales, cost of sales and operating expenses. The timing of product introductions can also impact the Company’s net sales to its indirect distribution channels as these channels are filled with new inventory following a product launch, and channel inventory of an older product often declines as the launch of a newer product approaches. Net sales can also be affected when consumers and distributors anticipate a product introduction.\\nHuman Capital\\nThe Company believes it has a talented, motivated and dedicated team, and works to create an inclusive, safe and supportive environment for all of its team members. As of September 30, 2023, the Company had approximately 161,000 full-time equivalent employees.\\nWorkplace Practices and Policies\\nThe Company is an equal opportunity employer committed to inclusion and diversity and to providing a workplace free of harassment or discrimination.\\nCompensation and Benefits\\nThe Company believes that compensation should be competitive and equitable, and should enable employees to share in the Company’s success. The Company recognizes its people are most likely to thrive when they have the resources to meet their needs and the time and support to succeed in their professional and personal lives. In support of this, the Company offers a wide variety of benefits for employees around the world and invests in tools and resources that are designed to support employees’ individual growth and development.\\nInclusion and Diversity\\nThe Company is committed to its vision to build and sustain a more inclusive workforce that is representative of the communities it serves. The Company continues to work to increase diverse representation at every level, foster an inclusive culture, and support equitable pay and access to opportunity for all employees.\\nEngagement\\nThe Company believes that open and honest communication among team members, managers and leaders helps create an open, collaborative work environment where everyone can contribute, grow and succeed. Team members are encouraged to come to their managers with questions, feedback or concerns, and the Company conducts surveys that gauge employee sentiment in areas like career development, manager performance and inclusivity.\\nHealth and Safety\\nThe Company is committed to protecting its team members everywhere it operates. The Company identifies potential workplace risks in order to develop measures to mitigate possible hazards. The Company supports employees with general safety, security and crisis management training, and by putting specific programs in place for those working in potentially high-hazard environments. Additionally, the Company works to protect the safety and security of its team members, visitors and customers through its global security team.\\nAvailable Information\\nThe Company’s Annual Reports on Form 10-K, Quarterly Reports on Form 10-Q, Current Reports on Form 8-K, and amendments to reports filed pursuant to Sections 13(a) and 15(d) of the Securities Exchange Act of 1934, as amended (the “Exchange Act”), are filed with the U.S. Securities and Exchange Commission (the “SEC”). Such reports and other information filed by the Company with the SEC are available free of charge at investor.apple.com/investor-relations/sec-filings/default.aspx when such reports are available on the SEC’s website. The Company periodically provides certain information for investors on its corporate website, www.apple.com, and its investor relations website, investor.apple.com. This includes press releases and other information about financial performance, information on environmental, social and governance matters, and details related to the Company’s annual meeting of shareholders. The information contained on the websites referenced in this Form 10-K is not incorporated by reference into this filing. Further, the Company’s references to website URLs are intended to be inactive textual references only.\\nApple Inc. | 2023 Form 10-K | 4\\n\\n\\n'"
      ]
     },
     "execution_count": 338,
     "metadata": {},
     "output_type": "execute_result"
    }
   ],
   "source": [
    "Tenk['Item 1']"
   ]
  },
  {
   "cell_type": "code",
   "execution_count": 324,
   "id": "73729742",
   "metadata": {},
   "outputs": [
    {
     "data": {
      "text/plain": [
       "['__class__',\n",
       " '__delattr__',\n",
       " '__dict__',\n",
       " '__dir__',\n",
       " '__doc__',\n",
       " '__eq__',\n",
       " '__format__',\n",
       " '__ge__',\n",
       " '__getattribute__',\n",
       " '__getitem__',\n",
       " '__gt__',\n",
       " '__hash__',\n",
       " '__init__',\n",
       " '__init_subclass__',\n",
       " '__le__',\n",
       " '__lt__',\n",
       " '__module__',\n",
       " '__ne__',\n",
       " '__new__',\n",
       " '__reduce__',\n",
       " '__reduce_ex__',\n",
       " '__repr__',\n",
       " '__rich__',\n",
       " '__setattr__',\n",
       " '__sizeof__',\n",
       " '__str__',\n",
       " '__subclasshook__',\n",
       " '__weakref__',\n",
       " '_filing',\n",
       " 'balance_sheet',\n",
       " 'cash_flow_statement',\n",
       " 'chunked_document',\n",
       " 'company',\n",
       " 'doc',\n",
       " 'filing_date',\n",
       " 'financials',\n",
       " 'form',\n",
       " 'income_statement',\n",
       " 'items',\n",
       " 'structure',\n",
       " 'view']"
      ]
     },
     "execution_count": 324,
     "metadata": {},
     "output_type": "execute_result"
    }
   ],
   "source": [
    "dir(Tenk)"
   ]
  },
  {
   "cell_type": "code",
   "execution_count": 330,
   "id": "08a13c07",
   "metadata": {},
   "outputs": [
    {
     "data": {
      "text/html": [
       "<pre style=\"white-space:pre;overflow-x:auto;line-height:normal;font-family:Menlo,'DejaVu Sans Mono',consolas,'Courier New',monospace\"></pre>\n"
      ],
      "text/plain": []
     },
     "metadata": {},
     "output_type": "display_data"
    },
    {
     "data": {
      "text/plain": [
       "\u001b[3m               Consolidated Statement of Operations                \u001b[0m\n",
       "                                                                   \n",
       " \u001b[1m \u001b[0m\u001b[1m                                             \u001b[0m\u001b[1m \u001b[0m \u001b[1m \u001b[0m\u001b[1m     2023-09-30\u001b[0m\u001b[1m \u001b[0m \n",
       " ━━━━━━━━━━━━━━━━━━━━━━━━━━━━━━━━━━━━━━━━━━━━━━━━━━━━━━━━━━━━━━━━━ \n",
       " \u001b[1;38;5;39m \u001b[0m\u001b[1;38;5;39mTotal Net Sales                              \u001b[0m\u001b[1;38;5;39m \u001b[0m \u001b[1;38;5;39m \u001b[0m\u001b[1;38;5;39m383,285,000,000\u001b[0m\u001b[1;38;5;39m \u001b[0m \n",
       "                                                                   \n",
       "  COST OF SALES:                                                   \n",
       " \u001b[1;38;5;39m \u001b[0m\u001b[1;38;5;39mCost Goods and Services Sold                 \u001b[0m\u001b[1;38;5;39m \u001b[0m \u001b[1;38;5;39m \u001b[0m\u001b[1;38;5;39m214,137,000,000\u001b[0m\u001b[1;38;5;39m \u001b[0m \n",
       "                                                                   \n",
       " \u001b[1;38;5;39m \u001b[0m\u001b[1;38;5;39mGross Profit                                 \u001b[0m\u001b[1;38;5;39m \u001b[0m \u001b[1;38;5;39m \u001b[0m\u001b[1;38;5;39m169,148,000,000\u001b[0m\u001b[1;38;5;39m \u001b[0m \n",
       "                                                                   \n",
       "  OPERATING EXPENSES:                                              \n",
       "    Research and Development Expenses              29,915,000,000  \n",
       "    Selling General and Administrative Expenses    24,932,000,000  \n",
       " \u001b[1;38;5;39m \u001b[0m\u001b[1;38;5;39mTotal Operating Expenses                     \u001b[0m\u001b[1;38;5;39m \u001b[0m \u001b[1;38;5;39m \u001b[0m\u001b[1;38;5;39m 54,847,000,000\u001b[0m\u001b[1;38;5;39m \u001b[0m \n",
       "                                                                   \n",
       " \u001b[1;38;5;39m \u001b[0m\u001b[1;38;5;39mOperating Income                             \u001b[0m\u001b[1;38;5;39m \u001b[0m \u001b[1;38;5;39m \u001b[0m\u001b[1;38;5;39m114,301,000,000\u001b[0m\u001b[1;38;5;39m \u001b[0m \n",
       "                                                                   \n",
       "  OTHER INCOME/EXPENSE:                                            \n",
       "    Interest Expense                                3,933,000,000  \n",
       "    Nonoperating Income                              -565,000,000  \n",
       " \u001b[1;38;5;39m \u001b[0m\u001b[1;38;5;39mIncome Before Taxes                          \u001b[0m\u001b[1;38;5;39m \u001b[0m \u001b[1;38;5;39m \u001b[0m\u001b[1;38;5;39m113,736,000,000\u001b[0m\u001b[1;38;5;39m \u001b[0m \n",
       "                                                                   \n",
       "  Income Tax Expense                               16,741,000,000  \n",
       " \u001b[1;38;5;39m \u001b[0m\u001b[1;38;5;39mNet Income                                   \u001b[0m\u001b[1;38;5;39m \u001b[0m \u001b[1;38;5;39m \u001b[0m\u001b[1;38;5;39m 96,995,000,000\u001b[0m\u001b[1;38;5;39m \u001b[0m \n",
       "                                                                   \n",
       "  EARNINGS PER SHARE:                                              \n",
       "    Basic                                                    6.16  \n",
       "    Diluted                                                  6.13  \n",
       "  WEIGHTED AVERAGE SHARES OUTSTANDING:                             \n",
       "    Basic                                          15,744,231,000  \n",
       "    Diluted                                        15,812,547,000  \n",
       "                                                                   "
      ]
     },
     "execution_count": 330,
     "metadata": {},
     "output_type": "execute_result"
    }
   ],
   "source": [
    "Tenk.income_statement"
   ]
  },
  {
   "cell_type": "code",
   "execution_count": 350,
   "id": "1bebb9c2",
   "metadata": {},
   "outputs": [
    {
     "data": {
      "text/plain": [
       "['__class__',\n",
       " '__delattr__',\n",
       " '__dict__',\n",
       " '__dir__',\n",
       " '__doc__',\n",
       " '__eq__',\n",
       " '__format__',\n",
       " '__ge__',\n",
       " '__getattribute__',\n",
       " '__getitem__',\n",
       " '__gt__',\n",
       " '__hash__',\n",
       " '__init__',\n",
       " '__init_subclass__',\n",
       " '__le__',\n",
       " '__lt__',\n",
       " '__module__',\n",
       " '__ne__',\n",
       " '__new__',\n",
       " '__reduce__',\n",
       " '__reduce_ex__',\n",
       " '__repr__',\n",
       " '__rich__',\n",
       " '__setattr__',\n",
       " '__sizeof__',\n",
       " '__str__',\n",
       " '__subclasshook__',\n",
       " '__weakref__',\n",
       " '_filing',\n",
       " 'balance_sheet',\n",
       " 'cash_flow_statement',\n",
       " 'chunked_document',\n",
       " 'company',\n",
       " 'doc',\n",
       " 'filing_date',\n",
       " 'financials',\n",
       " 'form',\n",
       " 'income_statement',\n",
       " 'items',\n",
       " 'structure',\n",
       " 'view']"
      ]
     },
     "execution_count": 350,
     "metadata": {},
     "output_type": "execute_result"
    }
   ],
   "source": [
    "dir(Tenk)"
   ]
  },
  {
   "cell_type": "code",
   "execution_count": 351,
   "id": "1666b930",
   "metadata": {},
   "outputs": [
    {
     "data": {
      "text/html": [
       "<pre style=\"white-space:pre;overflow-x:auto;line-height:normal;font-family:Menlo,'DejaVu Sans Mono',consolas,'Courier New',monospace\"></pre>\n"
      ],
      "text/plain": []
     },
     "metadata": {},
     "output_type": "display_data"
    },
    {
     "data": {
      "text/plain": [
       "╭───────────────────────────────────────────────── HTML Document ─────────────────────────────────────────────────╮\n",
       "│                                                                                                                 │\n",
       "│  \u001b[1m \u001b[0m\u001b[1mChunks\u001b[0m\u001b[1m \u001b[0m \u001b[1m \u001b[0m\u001b[1mItems                                                                                  \u001b[0m\u001b[1m \u001b[0m \u001b[1m \u001b[0m\u001b[1mAvg Size\u001b[0m\u001b[1m \u001b[0m  │\n",
       "│  ─────────────────────────────────────────────────────────────────────────────────────────────────────────────  │\n",
       "│   342      Item 1,Item 1A,Item 1B,Item 1C,Item 2,Item 3,Item 4,Item 5,Item 6,Item 7,Item 7A,Item     606        │\n",
       "│            8,Item 9,Item 9A,Item 9B,Item 9C,Item 10,Item 11,Item 12,Item 13,Item 14,Item 15,Item                │\n",
       "│            16                                                                                                   │\n",
       "│                                                                                                                 │\n",
       "╰─────────────────────────────────────────────────────────────────────────────────────────────────────────────────╯"
      ]
     },
     "execution_count": 351,
     "metadata": {},
     "output_type": "execute_result"
    }
   ],
   "source": [
    "Tenk.chunked_document\n"
   ]
  },
  {
   "cell_type": "code",
   "execution_count": 35,
   "id": "0d051201",
   "metadata": {},
   "outputs": [
    {
     "data": {
      "image/png": "[encoded data removed]",
      "text/plain": [
       "<Figure size 864x576 with 2 Axes>"
      ]
     },
     "metadata": {},
     "output_type": "display_data"
    }
   ],
   "source": [
    "import pandas as pd\n",
    "import seaborn as sns\n",
    "import matplotlib.pyplot as plt\n",
    "\n",
    "# Example financial data from 10-K filing\n",
    "financial_data = {\n",
    "    'Year': [2019, 2020, 2021],\n",
    "    'Revenue': [1000000, 1200000, 1500000],\n",
    "    'Net_Income': [200000, 300000, 400000],\n",
    "    'Equity': [1000000, 1300000, 1500000],\n",
    "    'Liabilities': [1000000, 1200000, 1500000]\n",
    "}\n",
    "\n",
    "# Convert dictionary to DataFrame\n",
    "df = pd.DataFrame(financial_data)\n",
    "\n",
    "# Calculate financial metrics\n",
    "df['Revenue_Growth_Rate'] = df['Revenue'].pct_change() * 100\n",
    "df['Profit_Margin'] = df['Net_Income'] / df['Revenue'] * 100\n",
    "df['Return_on_Equity'] = df['Net_Income'] / df['Equity'] * 100\n",
    "df['Debt_to_Equity'] = df['Liabilities'] / df['Equity']\n",
    "\n",
    "# Setting seaborn style\n",
    "sns.set(style=\"whitegrid\")\n",
    "\n",
    "# Plotting using Seaborn\n",
    "plt.figure(figsize=(12, 8))\n",
    "\n",
    "# Revenue Growth Rate\n",
    "plt.subplot(2, 2, 1)\n",
    "sns.barplot(x='Year', y='Revenue_Growth_Rate', data=df.iloc[1:], color='blue')\n",
    "plt.title('Revenue Growth Rate Over Time')\n",
    "plt.xlabel('Year')\n",
    "plt.ylabel('Growth Rate (%)')\n",
    "\n",
    "# Profit Margin\n",
    "plt.subplot(2, 2, 2)\n",
    "sns.barplot(x='Year', y='Profit_Margin', data=df, color='green')\n",
    "plt.title('Profit Margin Over Time')\n",
    "plt.xlabel('Year')\n",
    "plt.ylabel('Profit Margin (%)')\n",
    "\n",
    "# # Return on Equity\n",
    "# plt.subplot(2, 2, 3)\n",
    "# sns.lineplot(data=df, x='Year', y='Return_on_Equity')\n",
    "# plt.title('Return on Equity Over Time')\n",
    "# plt.xlabel('Year')\n",
    "# plt.ylabel('ROE (%)')\n",
    "\n",
    "# # Debt-to-Equity Ratio\n",
    "# plt.subplot(2, 2, 4)\n",
    "# sns.histplot(df['Debt_to_Equity'], bins=5, color='purple', kde=True)\n",
    "# plt.title('Debt-to-Equity Ratio Distribution')\n",
    "# plt.xlabel('Debt-to-Equity Ratio')\n",
    "# plt.ylabel('Frequency')\n",
    "\n",
    "plt.tight_layout()\n",
    "plt.show()\n"
   ]
  },
  {
   "cell_type": "code",
   "execution_count": null,
   "id": "9726fbe3",
   "metadata": {},
   "outputs": [],
   "source": []
  }
 ],
 "metadata": {
  "kernelspec": {
   "display_name": "Python 3 (ipykernel)",
   "language": "python",
   "name": "python3"
  },
  "language_info": {
   "codemirror_mode": {
    "name": "ipython",
    "version": 3
   },
   "file_extension": ".py",
   "mimetype": "text/x-python",
   "name": "python",
   "nbconvert_exporter": "python",
   "pygments_lexer": "ipython3",
   "version": "3.9.12"
  }
 },
 "nbformat": 4,
 "nbformat_minor": 5
}
