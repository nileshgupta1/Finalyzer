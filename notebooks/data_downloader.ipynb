{
 "cells": [
  {
   "cell_type": "code",
   "execution_count": 3,
   "id": "c04bc9e5",
   "metadata": {},
   "outputs": [
    {
     "name": "stdout",
     "output_type": "stream",
     "text": [
      "Collecting sec-edgar-downloader\n",
      "  Downloading sec_edgar_downloader-5.0.2-py3-none-any.whl (14 kB)\n",
      "Collecting pyrate-limiter>=3.1.0\n",
      "  Downloading pyrate_limiter-3.6.0-py3-none-any.whl (26 kB)\n",
      "Requirement already satisfied: requests in c:\\users\\nilesh\\anaconda3\\lib\\site-packages (from sec-edgar-downloader) (2.27.1)\n",
      "Requirement already satisfied: urllib3<1.27,>=1.21.1 in c:\\users\\nilesh\\anaconda3\\lib\\site-packages (from requests->sec-edgar-downloader) (1.26.9)\n",
      "Requirement already satisfied: charset-normalizer~=2.0.0 in c:\\users\\nilesh\\anaconda3\\lib\\site-packages (from requests->sec-edgar-downloader) (2.0.4)\n",
      "Requirement already satisfied: idna<4,>=2.5 in c:\\users\\nilesh\\anaconda3\\lib\\site-packages (from requests->sec-edgar-downloader) (3.3)\n",
      "Requirement already satisfied: certifi>=2017.4.17 in c:\\users\\nilesh\\anaconda3\\lib\\site-packages (from requests->sec-edgar-downloader) (2021.10.8)\n",
      "Installing collected packages: pyrate-limiter, sec-edgar-downloader\n",
      "Successfully installed pyrate-limiter-3.6.0 sec-edgar-downloader-5.0.2\n",
      "Note: you may need to restart the kernel to use updated packages.\n"
     ]
    }
   ],
   "source": [
    "pip install -U sec-edgar-downloader"
   ]
  },
  {
   "cell_type": "code",
   "execution_count": 1,
   "id": "4141bf0b",
   "metadata": {},
   "outputs": [],
   "source": [
    "from sec_edgar_downloader import Downloader\n",
    "import os"
   ]
  },
  {
   "cell_type": "code",
   "execution_count": 2,
   "id": "6229b307",
   "metadata": {},
   "outputs": [],
   "source": [
    "def download_10k_filings(ticker, company_name, email_address, directory):\n",
    "    # Create a Downloader instance\n",
    "    dl = Downloader(company_name, email_address, directory)\n",
    "\n",
    "    # Download 10-K filings for the given ticker symbol\n",
    "    dl.get(\"10-K\", ticker, after=f\"1995-01-01\", before=f\"2023-12-31\")"
   ]
  },
  {
   "cell_type": "code",
   "execution_count": 4,
   "id": "898fd7e9",
   "metadata": {},
   "outputs": [],
   "source": [
    "# Specify the company name and email address\n",
    "company_name = \"RGIPT\"\n",
    "email_address = \"21it3021@rgipt.ac.in\"\n",
    "\n",
    "# Define the directory to save the filings\n",
    "directory = \"./filings_10k\"\n",
    "\n",
    "# Define the ticker symbols of the companies\n",
    "tickers = [\"AAPL\"]\n",
    "\n",
    "# Download the 10-K filings for each company\n",
    "for ticker in tickers:\n",
    "    download_10k_filings(ticker, company_name, email_address, directory)"
   ]
  },
  {
   "cell_type": "code",
   "execution_count": null,
   "id": "579200c0",
   "metadata": {},
   "outputs": [],
   "source": [
    "    "
   ]
  }
 ],
 "metadata": {
  "kernelspec": {
   "display_name": "Python 3 (ipykernel)",
   "language": "python",
   "name": "python3"
  },
  "language_info": {
   "codemirror_mode": {
    "name": "ipython",
    "version": 3
   },
   "file_extension": ".py",
   "mimetype": "text/x-python",
   "name": "python",
   "nbconvert_exporter": "python",
   "pygments_lexer": "ipython3",
   "version": "3.9.12"
  }
 },
 "nbformat": 4,
 "nbformat_minor": 5
}
